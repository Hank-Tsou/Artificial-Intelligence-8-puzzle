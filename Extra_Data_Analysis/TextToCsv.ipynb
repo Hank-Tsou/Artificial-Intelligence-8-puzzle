{
 "cells": [
  {
   "cell_type": "code",
   "execution_count": 34,
   "metadata": {},
   "outputs": [],
   "source": [
    "import csv \n",
    "\n",
    "input_file = open('output.txt', 'r')\n",
    "output_file = open('h2_mycsv_EX.csv', 'w')\n",
    "\n",
    "for line in input_file:\n",
    "    (a, date, time, lon) = line.strip().split(' ')\n",
    "    output_file.write(','.join([a, date, time, lon]) + '\\n')\n",
    "input_file.close()\n",
    "output_file.close()"
   ]
  },
  {
   "cell_type": "code",
   "execution_count": null,
   "metadata": {},
   "outputs": [],
   "source": []
  },
  {
   "cell_type": "code",
   "execution_count": null,
   "metadata": {},
   "outputs": [],
   "source": []
  }
 ],
 "metadata": {
  "kernelspec": {
   "display_name": "Python 3",
   "language": "python",
   "name": "python3"
  },
  "language_info": {
   "codemirror_mode": {
    "name": "ipython",
    "version": 3
   },
   "file_extension": ".py",
   "mimetype": "text/x-python",
   "name": "python",
   "nbconvert_exporter": "python",
   "pygments_lexer": "ipython3",
   "version": "3.6.5"
  }
 },
 "nbformat": 4,
 "nbformat_minor": 2
}
